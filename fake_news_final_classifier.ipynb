{
 "cells": [
  {
   "cell_type": "code",
   "execution_count": null,
   "metadata": {},
   "outputs": [],
   "source": [
    "import pandas as pd\n",
    "import numpy as np\n",
    "import string, re\n",
    "\n",
    "import spacy\n",
    "nlp = spacy.load('en_core_web_sm')"
   ]
  },
  {
   "cell_type": "code",
   "execution_count": null,
   "metadata": {},
   "outputs": [],
   "source": [
    "#Reading Input\n",
    "fake_df = pd.read_csv('Fake.csv')\n",
    "true_df = pd.read_csv('True.csv')\n",
    "\n",
    "fake_df['class'] = 0\n",
    "true_df['class'] = 1\n",
    "#Concat Full Data\n",
    "df = pd.concat([fake_df, true_df])\n",
    "#Shuffle the Data\n",
    "df = df.sample(frac = 1)\n",
    "df.reset_index(inplace = True)\n",
    "#Filter Required columns\n",
    "df= df[['text','class']]\n",
    "df"
   ]
  }
 ],
 "metadata": {
  "language_info": {
   "name": "python"
  },
  "orig_nbformat": 4
 },
 "nbformat": 4,
 "nbformat_minor": 2
}
